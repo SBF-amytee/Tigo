{
 "cells": [
  {
   "cell_type": "code",
   "execution_count": 1,
   "id": "f9e8f433-5a41-471c-91fc-bd173d57708b",
   "metadata": {},
   "outputs": [],
   "source": [
    "import pandas as pd\n",
    "import os\n",
    "import numpy as np\n",
    "import matplotlib.pyplot as plt\n",
    "import gc"
   ]
  },
  {
   "cell_type": "code",
   "execution_count": 2,
   "id": "72e81bb7-2871-4a72-b936-787ce56d91f9",
   "metadata": {},
   "outputs": [
    {
     "name": "stdout",
     "output_type": "stream",
     "text": [
      "0 NO_FACTURA NOMBRE_EMISOR MONEDA FECHA_EMISION   FECHA_VENCIMIENTO  \\\n",
      "0   99790428          TIGO    COP      20231119  05-DIC-23 00:00:00   \n",
      "1   99744447          TIGO    COP      20231116  04-DIC-23 00:00:00   \n",
      "2   68299551          TIGO    COP      20231110  28-NOV-23 00:00:00   \n",
      "3   19065897          TIGO    COP      20231107  28-NOV-23 00:00:00   \n",
      "4   29214432          TIGO    COP      20231113  01-DIC-23 00:00:00   \n",
      "\n",
      "0 MONTO_FACTURA          FECHA_PAGO MONTO_PAGO PERIODO  \\\n",
      "0          1544  22-NOV-23 00:00:00                 39   \n",
      "1           161  24-AGO-24 00:00:00        160      85   \n",
      "2         31936  30-NOV-23 00:00:00      31936    None   \n",
      "3         35910  01-DIC-23 00:00:00      35910      07   \n",
      "4         37425  20-NOV-23 00:00:00      37425    None   \n",
      "\n",
      "0                      Source_File  \n",
      "0  Compra_Cartera_202311_Part3.csv  \n",
      "1  Compra_Cartera_202311_Part3.csv  \n",
      "2  Compra_Cartera_202311_Part3.csv  \n",
      "3  Compra_Cartera_202311_Part3.csv  \n",
      "4  Compra_Cartera_202311_Part3.csv  \n"
     ]
    }
   ],
   "source": [
    "\n",
    "\n",
    "# Define the folder where files are stored\n",
    "data_folder = '/home/amy/projects/Tigo/data/unzipped_data/'\n",
    "\n",
    "# List all files in the folder (you can filter for specific extensions if needed)\n",
    "all_files = [os.path.join(data_folder, f) for f in os.listdir(data_folder) if f.endswith('.csv')]\n",
    "\n",
    "# Initialize an empty list to store dataframes\n",
    "dataframes = []\n",
    "\n",
    "# Process each file\n",
    "for file_path in all_files:\n",
    "    with open(file_path, 'r') as f:\n",
    "        lines = f.readlines()\n",
    "\n",
    "    # Process each line\n",
    "    data = []\n",
    "    for line in lines:\n",
    "        # Split by ';' first\n",
    "        parts = line.strip().split(';')\n",
    "        # For the last part, split by ','\n",
    "        last_part = parts[-1].split(',')\n",
    "        # Combine parts\n",
    "        data.append(parts[:-1] + last_part)\n",
    "\n",
    "    # Create a DataFrame for the current file\n",
    "    df = pd.DataFrame(data, columns=['NO_FACTURA',\n",
    "                                     'NOMBRE_EMISOR',\n",
    "                                     'MONEDA',\n",
    "                                     'FECHA_EMISION',\n",
    "                                     'FECHA_VENCIMIENTO',\n",
    "                                     'MONTO_FACTURA',\n",
    "                                     'FECHA_PAGO',\n",
    "                                     'MONTO_PAGO',\n",
    "                                     'PERIODO'])  # Adjust column names\n",
    "    \n",
    "    # Set the first row as the header and drop it from the data\n",
    "    df.columns = df.iloc[0]  # Promote the first row to header\n",
    "    df = df[1:]  # Drop the first row from data\n",
    "    df.reset_index(drop=True, inplace=True)  # Reset the index\n",
    "    \n",
    "    # Add the file name as a new column (optional, for traceability)\n",
    "    df['Source_File'] = os.path.basename(file_path)\n",
    "    \n",
    "    # Append the processed DataFrame to the list\n",
    "    dataframes.append(df)\n",
    "\n",
    "# Concatenate all DataFrames into one\n",
    "final_df = pd.concat(dataframes, ignore_index=True)\n",
    "\n",
    "# Display the combined DataFrame\n",
    "print(final_df.head())\n"
   ]
  },
  {
   "cell_type": "code",
   "execution_count": 3,
   "id": "eae5f8b8-63bd-4e68-8499-1262648c71d0",
   "metadata": {},
   "outputs": [
    {
     "data": {
      "text/plain": [
       "0"
      ]
     },
     "execution_count": 3,
     "metadata": {},
     "output_type": "execute_result"
    }
   ],
   "source": [
    "gc.enable()\n",
    "gc.collect()"
   ]
  },
  {
   "cell_type": "code",
   "execution_count": 4,
   "id": "6e3f29fb-1c63-4f69-8ab3-b0674a0ce0b8",
   "metadata": {},
   "outputs": [],
   "source": [
    "final_df.drop(columns='NO_FACTURA', inplace=True)\n",
    "final_df.drop(columns='PERIODO', inplace=True)"
   ]
  },
  {
   "cell_type": "code",
   "execution_count": 5,
   "id": "fe8736f5-0605-4399-b712-64a493b3a5cb",
   "metadata": {},
   "outputs": [],
   "source": [
    "final_df['FECHA_EMISION'] = pd.to_datetime(final_df['FECHA_EMISION'], format='%Y%m%d', errors='coerce').dt.strftime('%Y-%m-%d')"
   ]
  },
  {
   "cell_type": "code",
   "execution_count": 6,
   "id": "e7d2af30-cfd5-466e-9430-967140c14038",
   "metadata": {},
   "outputs": [
    {
     "data": {
      "text/plain": [
       "18"
      ]
     },
     "execution_count": 6,
     "metadata": {},
     "output_type": "execute_result"
    }
   ],
   "source": [
    "gc.collect()"
   ]
  },
  {
   "cell_type": "code",
   "execution_count": 8,
   "id": "05c37870-a988-4236-b875-84d0ea20ac2c",
   "metadata": {},
   "outputs": [
    {
     "ename": "KeyError",
     "evalue": "\"['Source_File'] not found in axis\"",
     "output_type": "error",
     "traceback": [
      "\u001b[0;31m---------------------------------------------------------------------------\u001b[0m",
      "\u001b[0;31mKeyError\u001b[0m                                  Traceback (most recent call last)",
      "Cell \u001b[0;32mIn[8], line 1\u001b[0m\n\u001b[0;32m----> 1\u001b[0m \u001b[43mfinal_df\u001b[49m\u001b[38;5;241;43m.\u001b[39;49m\u001b[43mdrop\u001b[49m\u001b[43m(\u001b[49m\u001b[43mcolumns\u001b[49m\u001b[38;5;241;43m=\u001b[39;49m\u001b[38;5;124;43m'\u001b[39;49m\u001b[38;5;124;43mSource_File\u001b[39;49m\u001b[38;5;124;43m'\u001b[39;49m\u001b[43m,\u001b[49m\u001b[43m \u001b[49m\u001b[43minplace\u001b[49m\u001b[38;5;241;43m=\u001b[39;49m\u001b[38;5;28;43;01mTrue\u001b[39;49;00m\u001b[43m)\u001b[49m\n",
      "File \u001b[0;32m~/sandbox/lib/python3.12/site-packages/pandas/core/frame.py:5581\u001b[0m, in \u001b[0;36mDataFrame.drop\u001b[0;34m(self, labels, axis, index, columns, level, inplace, errors)\u001b[0m\n\u001b[1;32m   5433\u001b[0m \u001b[38;5;28;01mdef\u001b[39;00m \u001b[38;5;21mdrop\u001b[39m(\n\u001b[1;32m   5434\u001b[0m     \u001b[38;5;28mself\u001b[39m,\n\u001b[1;32m   5435\u001b[0m     labels: IndexLabel \u001b[38;5;241m|\u001b[39m \u001b[38;5;28;01mNone\u001b[39;00m \u001b[38;5;241m=\u001b[39m \u001b[38;5;28;01mNone\u001b[39;00m,\n\u001b[0;32m   (...)\u001b[0m\n\u001b[1;32m   5442\u001b[0m     errors: IgnoreRaise \u001b[38;5;241m=\u001b[39m \u001b[38;5;124m\"\u001b[39m\u001b[38;5;124mraise\u001b[39m\u001b[38;5;124m\"\u001b[39m,\n\u001b[1;32m   5443\u001b[0m ) \u001b[38;5;241m-\u001b[39m\u001b[38;5;241m>\u001b[39m DataFrame \u001b[38;5;241m|\u001b[39m \u001b[38;5;28;01mNone\u001b[39;00m:\n\u001b[1;32m   5444\u001b[0m \u001b[38;5;250m    \u001b[39m\u001b[38;5;124;03m\"\"\"\u001b[39;00m\n\u001b[1;32m   5445\u001b[0m \u001b[38;5;124;03m    Drop specified labels from rows or columns.\u001b[39;00m\n\u001b[1;32m   5446\u001b[0m \n\u001b[0;32m   (...)\u001b[0m\n\u001b[1;32m   5579\u001b[0m \u001b[38;5;124;03m            weight  1.0     0.8\u001b[39;00m\n\u001b[1;32m   5580\u001b[0m \u001b[38;5;124;03m    \"\"\"\u001b[39;00m\n\u001b[0;32m-> 5581\u001b[0m     \u001b[38;5;28;01mreturn\u001b[39;00m \u001b[38;5;28;43msuper\u001b[39;49m\u001b[43m(\u001b[49m\u001b[43m)\u001b[49m\u001b[38;5;241;43m.\u001b[39;49m\u001b[43mdrop\u001b[49m\u001b[43m(\u001b[49m\n\u001b[1;32m   5582\u001b[0m \u001b[43m        \u001b[49m\u001b[43mlabels\u001b[49m\u001b[38;5;241;43m=\u001b[39;49m\u001b[43mlabels\u001b[49m\u001b[43m,\u001b[49m\n\u001b[1;32m   5583\u001b[0m \u001b[43m        \u001b[49m\u001b[43maxis\u001b[49m\u001b[38;5;241;43m=\u001b[39;49m\u001b[43maxis\u001b[49m\u001b[43m,\u001b[49m\n\u001b[1;32m   5584\u001b[0m \u001b[43m        \u001b[49m\u001b[43mindex\u001b[49m\u001b[38;5;241;43m=\u001b[39;49m\u001b[43mindex\u001b[49m\u001b[43m,\u001b[49m\n\u001b[1;32m   5585\u001b[0m \u001b[43m        \u001b[49m\u001b[43mcolumns\u001b[49m\u001b[38;5;241;43m=\u001b[39;49m\u001b[43mcolumns\u001b[49m\u001b[43m,\u001b[49m\n\u001b[1;32m   5586\u001b[0m \u001b[43m        \u001b[49m\u001b[43mlevel\u001b[49m\u001b[38;5;241;43m=\u001b[39;49m\u001b[43mlevel\u001b[49m\u001b[43m,\u001b[49m\n\u001b[1;32m   5587\u001b[0m \u001b[43m        \u001b[49m\u001b[43minplace\u001b[49m\u001b[38;5;241;43m=\u001b[39;49m\u001b[43minplace\u001b[49m\u001b[43m,\u001b[49m\n\u001b[1;32m   5588\u001b[0m \u001b[43m        \u001b[49m\u001b[43merrors\u001b[49m\u001b[38;5;241;43m=\u001b[39;49m\u001b[43merrors\u001b[49m\u001b[43m,\u001b[49m\n\u001b[1;32m   5589\u001b[0m \u001b[43m    \u001b[49m\u001b[43m)\u001b[49m\n",
      "File \u001b[0;32m~/sandbox/lib/python3.12/site-packages/pandas/core/generic.py:4788\u001b[0m, in \u001b[0;36mNDFrame.drop\u001b[0;34m(self, labels, axis, index, columns, level, inplace, errors)\u001b[0m\n\u001b[1;32m   4786\u001b[0m \u001b[38;5;28;01mfor\u001b[39;00m axis, labels \u001b[38;5;129;01min\u001b[39;00m axes\u001b[38;5;241m.\u001b[39mitems():\n\u001b[1;32m   4787\u001b[0m     \u001b[38;5;28;01mif\u001b[39;00m labels \u001b[38;5;129;01mis\u001b[39;00m \u001b[38;5;129;01mnot\u001b[39;00m \u001b[38;5;28;01mNone\u001b[39;00m:\n\u001b[0;32m-> 4788\u001b[0m         obj \u001b[38;5;241m=\u001b[39m \u001b[43mobj\u001b[49m\u001b[38;5;241;43m.\u001b[39;49m\u001b[43m_drop_axis\u001b[49m\u001b[43m(\u001b[49m\u001b[43mlabels\u001b[49m\u001b[43m,\u001b[49m\u001b[43m \u001b[49m\u001b[43maxis\u001b[49m\u001b[43m,\u001b[49m\u001b[43m \u001b[49m\u001b[43mlevel\u001b[49m\u001b[38;5;241;43m=\u001b[39;49m\u001b[43mlevel\u001b[49m\u001b[43m,\u001b[49m\u001b[43m \u001b[49m\u001b[43merrors\u001b[49m\u001b[38;5;241;43m=\u001b[39;49m\u001b[43merrors\u001b[49m\u001b[43m)\u001b[49m\n\u001b[1;32m   4790\u001b[0m \u001b[38;5;28;01mif\u001b[39;00m inplace:\n\u001b[1;32m   4791\u001b[0m     \u001b[38;5;28mself\u001b[39m\u001b[38;5;241m.\u001b[39m_update_inplace(obj)\n",
      "File \u001b[0;32m~/sandbox/lib/python3.12/site-packages/pandas/core/generic.py:4830\u001b[0m, in \u001b[0;36mNDFrame._drop_axis\u001b[0;34m(self, labels, axis, level, errors, only_slice)\u001b[0m\n\u001b[1;32m   4828\u001b[0m         new_axis \u001b[38;5;241m=\u001b[39m axis\u001b[38;5;241m.\u001b[39mdrop(labels, level\u001b[38;5;241m=\u001b[39mlevel, errors\u001b[38;5;241m=\u001b[39merrors)\n\u001b[1;32m   4829\u001b[0m     \u001b[38;5;28;01melse\u001b[39;00m:\n\u001b[0;32m-> 4830\u001b[0m         new_axis \u001b[38;5;241m=\u001b[39m \u001b[43maxis\u001b[49m\u001b[38;5;241;43m.\u001b[39;49m\u001b[43mdrop\u001b[49m\u001b[43m(\u001b[49m\u001b[43mlabels\u001b[49m\u001b[43m,\u001b[49m\u001b[43m \u001b[49m\u001b[43merrors\u001b[49m\u001b[38;5;241;43m=\u001b[39;49m\u001b[43merrors\u001b[49m\u001b[43m)\u001b[49m\n\u001b[1;32m   4831\u001b[0m     indexer \u001b[38;5;241m=\u001b[39m axis\u001b[38;5;241m.\u001b[39mget_indexer(new_axis)\n\u001b[1;32m   4833\u001b[0m \u001b[38;5;66;03m# Case for non-unique axis\u001b[39;00m\n\u001b[1;32m   4834\u001b[0m \u001b[38;5;28;01melse\u001b[39;00m:\n",
      "File \u001b[0;32m~/sandbox/lib/python3.12/site-packages/pandas/core/indexes/base.py:7070\u001b[0m, in \u001b[0;36mIndex.drop\u001b[0;34m(self, labels, errors)\u001b[0m\n\u001b[1;32m   7068\u001b[0m \u001b[38;5;28;01mif\u001b[39;00m mask\u001b[38;5;241m.\u001b[39many():\n\u001b[1;32m   7069\u001b[0m     \u001b[38;5;28;01mif\u001b[39;00m errors \u001b[38;5;241m!=\u001b[39m \u001b[38;5;124m\"\u001b[39m\u001b[38;5;124mignore\u001b[39m\u001b[38;5;124m\"\u001b[39m:\n\u001b[0;32m-> 7070\u001b[0m         \u001b[38;5;28;01mraise\u001b[39;00m \u001b[38;5;167;01mKeyError\u001b[39;00m(\u001b[38;5;124mf\u001b[39m\u001b[38;5;124m\"\u001b[39m\u001b[38;5;132;01m{\u001b[39;00mlabels[mask]\u001b[38;5;241m.\u001b[39mtolist()\u001b[38;5;132;01m}\u001b[39;00m\u001b[38;5;124m not found in axis\u001b[39m\u001b[38;5;124m\"\u001b[39m)\n\u001b[1;32m   7071\u001b[0m     indexer \u001b[38;5;241m=\u001b[39m indexer[\u001b[38;5;241m~\u001b[39mmask]\n\u001b[1;32m   7072\u001b[0m \u001b[38;5;28;01mreturn\u001b[39;00m \u001b[38;5;28mself\u001b[39m\u001b[38;5;241m.\u001b[39mdelete(indexer)\n",
      "\u001b[0;31mKeyError\u001b[0m: \"['Source_File'] not found in axis\""
     ]
    }
   ],
   "source": [
    "final_df.drop(columns='Source_File', inplace=True)"
   ]
  },
  {
   "cell_type": "code",
   "execution_count": 9,
   "id": "29d26105-81ae-4c16-8f01-4f2e53b8ffcc",
   "metadata": {},
   "outputs": [],
   "source": [
    "# Map Spanish months to English\n",
    "month_map = {\n",
    "    'ENE': 'JAN', 'FEB': 'FEB', 'MAR': 'MAR', 'ABR': 'APR',\n",
    "    'MAY': 'MAY', 'JUN': 'JUN', 'JUL': 'JUL', 'AGO': 'AUG',\n",
    "    'SEP': 'SEP', 'OCT': 'OCT', 'NOV': 'NOV', 'DIC': 'DEC'\n",
    "}\n",
    "\n",
    "\n",
    "# Apply mapping only to non-null values\n",
    "def map_months(date):\n",
    "    if pd.isnull(date) or date == '':\n",
    "        return date  # Leave NaN or empty values as is\n",
    "    for sp_month, en_month in month_map.items():\n",
    "        date = date.replace(sp_month, en_month)  # Replace Spanish month with English\n",
    "    return date\n",
    "\n",
    "# Apply the function to the column\n",
    "final_df['FECHA_VENCIMIENTO'] = final_df['FECHA_VENCIMIENTO'].apply(map_months)\n",
    "final_df['FECHA_PAGO'] = final_df['FECHA_PAGO'].apply(map_months)"
   ]
  },
  {
   "cell_type": "code",
   "execution_count": 10,
   "id": "4ebbc842-cbea-4167-935d-fee386d0beb6",
   "metadata": {},
   "outputs": [],
   "source": [
    "# Convert the column with the date format '27-SEP-23 00:00:00' to '%Y-%m-%d'\n",
    "final_df['FECHA_VENCIMIENTO'] = pd.to_datetime(final_df['FECHA_VENCIMIENTO'], format='%d-%b-%y %H:%M:%S', errors='coerce').dt.strftime('%Y-%m-%d')\n",
    "\n",
    "# Convert the column with the date format '27-SEP-23 00:00:00' to '%Y-%m-%d'\n",
    "final_df['FECHA_PAGO'] = pd.to_datetime(final_df['FECHA_PAGO'], format='%d-%b-%y %H:%M:%S', errors='coerce').dt.strftime('%Y-%m-%d')"
   ]
  },
  {
   "cell_type": "code",
   "execution_count": 11,
   "id": "da04084c-ffbb-4c3d-b1c8-07d27f2ffb2a",
   "metadata": {},
   "outputs": [],
   "source": [
    "final_df['FECHA_PAGO'] = pd.to_datetime(final_df['FECHA_PAGO'], format='%Y-%m-%d', errors='coerce')\n",
    "final_df['FECHA_VENCIMIENTO'] = pd.to_datetime(final_df['FECHA_VENCIMIENTO'], format='%Y-%m-%d', errors='coerce')\n",
    "\n",
    "final_df['days_to_pay'] = (final_df['FECHA_PAGO'] - final_df['FECHA_VENCIMIENTO']).dt.days"
   ]
  },
  {
   "cell_type": "code",
   "execution_count": 12,
   "id": "61f2796e-e204-46da-aa35-1284cd66527a",
   "metadata": {},
   "outputs": [
    {
     "data": {
      "text/plain": [
       "594"
      ]
     },
     "execution_count": 12,
     "metadata": {},
     "output_type": "execute_result"
    }
   ],
   "source": [
    "gc.collect()"
   ]
  },
  {
   "cell_type": "code",
   "execution_count": 13,
   "id": "f55c706c-3707-4d0b-9654-83632dd7da22",
   "metadata": {},
   "outputs": [
    {
     "data": {
      "text/plain": [
       "0               0.0\n",
       "1             160.0\n",
       "2           31936.0\n",
       "3           35910.0\n",
       "4           37425.0\n",
       "             ...   \n",
       "53071838    49900.0\n",
       "53071839    28815.0\n",
       "53071840        0.0\n",
       "53071841    17034.0\n",
       "53071842    31920.0\n",
       "Name: MONTO_PAGO, Length: 53071843, dtype: float64"
      ]
     },
     "execution_count": 13,
     "metadata": {},
     "output_type": "execute_result"
    }
   ],
   "source": [
    "# Replace empty strings with NaN\n",
    "# Remove everything after the comma (including the comma)\n",
    "final_df['MONTO_PAGO'] = final_df['MONTO_PAGO'].str.split(',').str[0]\n",
    "final_df['MONTO_PAGO'] =final_df['MONTO_PAGO'].replace('', np.nan)\n",
    "final_df['MONTO_PAGO'] = pd.to_numeric(final_df['MONTO_PAGO'] , errors='coerce')\n",
    "final_df['MONTO_PAGO'].fillna(0)"
   ]
  },
  {
   "cell_type": "code",
   "execution_count": 14,
   "id": "bd4678ef-a8ef-4cab-bdee-8821454a5489",
   "metadata": {},
   "outputs": [
    {
     "data": {
      "text/plain": [
       "14"
      ]
     },
     "execution_count": 14,
     "metadata": {},
     "output_type": "execute_result"
    }
   ],
   "source": [
    "gc.collect()"
   ]
  },
  {
   "cell_type": "code",
   "execution_count": 15,
   "id": "0d6f1ae4-3558-4b30-8971-81ee90e1cdf0",
   "metadata": {},
   "outputs": [],
   "source": [
    "final_df['MONTO_FACTURA'] = final_df['MONTO_FACTURA'].replace('', np.nan)\n",
    "\n",
    "\n",
    "\n",
    "# Remove everything after the comma (including the comma)\n",
    "final_df['MONTO_FACTURA'] = final_df['MONTO_FACTURA'].str.split(',').str[0]\n",
    "\n",
    "\n",
    "# Convert to float\n",
    "final_df['MONTO_FACTURA'] = pd.to_numeric(final_df['MONTO_FACTURA'] , errors='coerce')\n",
    "final_df['MONTO_FACTURA'] = final_df['MONTO_FACTURA'].astype('float')\n"
   ]
  },
  {
   "cell_type": "code",
   "execution_count": 16,
   "id": "b5c319f2-0c1a-4923-b26d-c84321e74bdf",
   "metadata": {},
   "outputs": [
    {
     "data": {
      "text/plain": [
       "18"
      ]
     },
     "execution_count": 16,
     "metadata": {},
     "output_type": "execute_result"
    }
   ],
   "source": [
    "gc.collect()"
   ]
  },
  {
   "cell_type": "code",
   "execution_count": 17,
   "id": "73fec711-5b55-4462-9f23-cab845301046",
   "metadata": {},
   "outputs": [],
   "source": [
    "final_df['monetary_loss'] = (final_df['MONTO_FACTURA'] - final_df['MONTO_PAGO'])\n",
    "# Where MONTO_PAGO is NaN, set monetary_loss to MONTO_FACTURA\n",
    "final_df['monetary_loss'] = final_df['monetary_loss'].fillna(final_df['MONTO_FACTURA'])"
   ]
  },
  {
   "cell_type": "code",
   "execution_count": 18,
   "id": "182f1962-e781-47ef-960c-e4ac5586fef3",
   "metadata": {},
   "outputs": [
    {
     "data": {
      "text/plain": [
       "0"
      ]
     },
     "execution_count": 18,
     "metadata": {},
     "output_type": "execute_result"
    }
   ],
   "source": [
    "gc.collect()"
   ]
  },
  {
   "cell_type": "code",
   "execution_count": 19,
   "id": "a3408293-4ae0-414d-ba21-420fa795f307",
   "metadata": {},
   "outputs": [],
   "source": [
    "final_df['loss_percentage'] = ((final_df['MONTO_FACTURA'] - final_df['MONTO_PAGO'])/final_df['MONTO_FACTURA']).fillna(1)"
   ]
  },
  {
   "cell_type": "code",
   "execution_count": null,
   "id": "03fc5315-78a1-4caa-91e9-6fa5325ddc9f",
   "metadata": {},
   "outputs": [],
   "source": [
    "final_df.to_csv('/home/amy/projects/Tigo/data/cleaned_data.csv')"
   ]
  },
  {
   "cell_type": "code",
   "execution_count": null,
   "id": "6a3bb241-fd29-4058-8b34-319d7a3c77ed",
   "metadata": {},
   "outputs": [],
   "source": []
  }
 ],
 "metadata": {
  "kernelspec": {
   "display_name": "Python 3 (ipykernel)",
   "language": "python",
   "name": "python3"
  },
  "language_info": {
   "codemirror_mode": {
    "name": "ipython",
    "version": 3
   },
   "file_extension": ".py",
   "mimetype": "text/x-python",
   "name": "python",
   "nbconvert_exporter": "python",
   "pygments_lexer": "ipython3",
   "version": "3.12.3"
  }
 },
 "nbformat": 4,
 "nbformat_minor": 5
}
